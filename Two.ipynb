{
  "nbformat": 4,
  "nbformat_minor": 0,
  "metadata": {
    "colab": {
      "name": "Two.ipynb",
      "provenance": [],
      "toc_visible": true,
      "authorship_tag": "ABX9TyNr7M2/PBnKzklHkQrb9kMp",
      "include_colab_link": true
    },
    "kernelspec": {
      "name": "python3",
      "display_name": "Python 3"
    }
  },
  "cells": [
    {
      "cell_type": "markdown",
      "metadata": {
        "id": "view-in-github",
        "colab_type": "text"
      },
      "source": [
        "<a href=\"https://colab.research.google.com/github/chokr0216/-2/blob/master/Two.ipynb\" target=\"_parent\"><img src=\"https://colab.research.google.com/assets/colab-badge.svg\" alt=\"Open In Colab\"/></a>"
      ]
    },
    {
      "cell_type": "markdown",
      "metadata": {
        "id": "2466Q4UKgkGA",
        "colab_type": "text"
      },
      "source": [
        "#Python on \n",
        "* First time\n",
        "  * One\n",
        "  * Two\n",
        "  * Three\n",
        "* Second time\n",
        "## Markdown Language <-> "
      ]
    },
    {
      "cell_type": "code",
      "metadata": {
        "id": "O7SJWxojecG2",
        "colab_type": "code",
        "colab": {
          "base_uri": "https://localhost:8080/",
          "height": 34
        },
        "outputId": "1680f4ba-7001-4cf2-f502-ca1347b7ee8c"
      },
      "source": [
        "a=2\n",
        "b=3\n",
        "c=a+b\n",
        "print(c)"
      ],
      "execution_count": 2,
      "outputs": [
        {
          "output_type": "stream",
          "text": [
            "5\n"
          ],
          "name": "stdout"
        }
      ]
    },
    {
      "cell_type": "code",
      "metadata": {
        "id": "h-hTAcDtgg46",
        "colab_type": "code",
        "colab": {}
      },
      "source": [
        ""
      ],
      "execution_count": 0,
      "outputs": []
    }
  ]
}