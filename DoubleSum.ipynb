{
  "nbformat": 4,
  "nbformat_minor": 0,
  "metadata": {
    "colab": {
      "name": "DoubleSum.ipynb",
      "provenance": [],
      "authorship_tag": "ABX9TyM0AKDchW4dYIxJ2BI3UY1n",
      "include_colab_link": true
    },
    "kernelspec": {
      "name": "python3",
      "display_name": "Python 3"
    }
  },
  "cells": [
    {
      "cell_type": "markdown",
      "metadata": {
        "id": "view-in-github",
        "colab_type": "text"
      },
      "source": [
        "<a href=\"https://colab.research.google.com/github/chokr0216/-2/blob/master/DoubleSum.ipynb\" target=\"_parent\"><img src=\"https://colab.research.google.com/assets/colab-badge.svg\" alt=\"Open In Colab\"/></a>"
      ]
    },
    {
      "cell_type": "code",
      "metadata": {
        "id": "B4FLK7RFoHN4",
        "colab_type": "code",
        "colab": {
          "base_uri": "https://localhost:8080/",
          "height": 34
        },
        "outputId": "bbd9afb9-2ca2-4553-b906-5960543d3405"
      },
      "source": [
        "sum=0\n",
        "for i in range(11):\n",
        "    i=i*i   \n",
        "    sum +=i\n",
        "print('sum', sum)"
      ],
      "execution_count": 1,
      "outputs": [
        {
          "output_type": "stream",
          "text": [
            "sum 385\n"
          ],
          "name": "stdout"
        }
      ]
    }
  ]
}