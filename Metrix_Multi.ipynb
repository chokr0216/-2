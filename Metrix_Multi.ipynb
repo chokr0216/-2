{
  "nbformat": 4,
  "nbformat_minor": 0,
  "metadata": {
    "colab": {
      "name": "Metrix-Multi.ipynb",
      "provenance": [],
      "authorship_tag": "ABX9TyPWA9UlOquWf5dKfV7y0Isv",
      "include_colab_link": true
    },
    "kernelspec": {
      "name": "python3",
      "display_name": "Python 3"
    },
    "accelerator": "GPU"
  },
  "cells": [
    {
      "cell_type": "markdown",
      "metadata": {
        "id": "view-in-github",
        "colab_type": "text"
      },
      "source": [
        "<a href=\"https://colab.research.google.com/github/chokr0216/-2/blob/master/Metrix_Multi.ipynb\" target=\"_parent\"><img src=\"https://colab.research.google.com/assets/colab-badge.svg\" alt=\"Open In Colab\"/></a>"
      ]
    },
    {
      "cell_type": "code",
      "metadata": {
        "id": "9vxalLJgt9R-",
        "colab_type": "code",
        "colab": {
          "base_uri": "https://localhost:8080/",
          "height": 69
        },
        "outputId": "fad9debb-0113-4db6-958f-40a5f2300c08"
      },
      "source": [
        "import tensorflow as tf\n",
        "# 텐서 생성\n",
        "# 런타임 하드웨어가속도 none\n",
        "a=tf.constant([[1.0, 2.0, 3.0],[4.0, 5.0, 6.0]])\n",
        "b=tf.constant([[1.0, 2.0],[3.0, 4.0],[5.0, 6.0]])\n",
        "c=tf.matmul(a,b)\n",
        "print(c)"
      ],
      "execution_count": 3,
      "outputs": [
        {
          "output_type": "stream",
          "text": [
            "tf.Tensor(\n",
            "[[22. 28.]\n",
            " [49. 64.]], shape=(2, 2), dtype=float32)\n"
          ],
          "name": "stdout"
        }
      ]
    },
    {
      "cell_type": "code",
      "metadata": {
        "id": "hO-K5LbHuoAP",
        "colab_type": "code",
        "colab": {
          "base_uri": "https://localhost:8080/",
          "height": 69
        },
        "outputId": "f7211828-d330-4996-ff85-27401d5a3289"
      },
      "source": [
        "import tensorflow as tf\n",
        "# 텐서 생성\n",
        "# 런타임 하드웨어가속도 GPU\n",
        "a=tf.constant([[1.0, 2.0, 3.0],[4.0, 5.0, 6.0]])\n",
        "b=tf.constant([[1.0, 2.0],[3.0, 4.0],[5.0, 6.0]])\n",
        "c=tf.matmul(a,b)\n",
        "print(c)"
      ],
      "execution_count": 2,
      "outputs": [
        {
          "output_type": "stream",
          "text": [
            "tf.Tensor(\n",
            "[[22. 28.]\n",
            " [49. 64.]], shape=(2, 2), dtype=float32)\n"
          ],
          "name": "stdout"
        }
      ]
    }
  ]
}