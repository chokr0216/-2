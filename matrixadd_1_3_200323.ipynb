{
  "nbformat": 4,
  "nbformat_minor": 0,
  "metadata": {
    "colab": {
      "name": "matrixadd-1-3-200323.ipynb",
      "provenance": [],
      "authorship_tag": "ABX9TyOVECcqr9BxH/eZG3PlOcr2",
      "include_colab_link": true
    },
    "kernelspec": {
      "name": "python3",
      "display_name": "Python 3"
    },
    "accelerator": "GPU"
  },
  "cells": [
    {
      "cell_type": "markdown",
      "metadata": {
        "id": "view-in-github",
        "colab_type": "text"
      },
      "source": [
        "<a href=\"https://colab.research.google.com/github/chokr0216/-2/blob/master/matrixadd_1_3_200323.ipynb\" target=\"_parent\"><img src=\"https://colab.research.google.com/assets/colab-badge.svg\" alt=\"Open In Colab\"/></a>"
      ]
    },
    {
      "cell_type": "markdown",
      "metadata": {
        "id": "5RD7I2IpAzWR",
        "colab_type": "text"
      },
      "source": [
        "# 매트릭스 덧셈 계산하기\n",
        "  * 과제 1-3 하기\n",
        "  "
      ]
    },
    {
      "cell_type": "code",
      "metadata": {
        "id": "zLdG0gPuGfPt",
        "colab_type": "code",
        "colab": {
          "base_uri": "https://localhost:8080/",
          "height": 34
        },
        "outputId": "8d2d55bf-24b9-42ba-9434-7d26a107da11"
      },
      "source": [
        "import numpy as np\n",
        "# 텐서 생성\n",
        "# 런타임 하드웨어가속도 none\n",
        "a=np.array([1.0, 2.0, 3.0])\n",
        "b=np.array([2.0, 4.0, 6.0])\n",
        "print(a+b)"
      ],
      "execution_count": 2,
      "outputs": [
        {
          "output_type": "stream",
          "text": [
            "[3. 6. 9.]\n"
          ],
          "name": "stdout"
        }
      ]
    },
    {
      "cell_type": "code",
      "metadata": {
        "id": "hvMKoDkUGwV3",
        "colab_type": "code",
        "colab": {
          "base_uri": "https://localhost:8080/",
          "height": 34
        },
        "outputId": "f95703c8-8e4f-4bcc-8cc9-a48ffd810717"
      },
      "source": [
        "import numpy as np\n",
        "# 텐서 생성\n",
        "# 런타임 하드웨어가속도 GPU\n",
        "a=np.array([1.0, 2.0, 3.0])\n",
        "b=np.array([2.0, 4.0, 6.0])\n",
        "print(a+b)"
      ],
      "execution_count": 3,
      "outputs": [
        {
          "output_type": "stream",
          "text": [
            "[3. 6. 9.]\n"
          ],
          "name": "stdout"
        }
      ]
    },
    {
      "cell_type": "code",
      "metadata": {
        "id": "qSfj8I4rHwTT",
        "colab_type": "code",
        "colab": {
          "base_uri": "https://localhost:8080/",
          "height": 52
        },
        "outputId": "60b92dfa-c94f-48de-d766-27765443a419"
      },
      "source": [
        "import numpy as np\n",
        "# 텐서 생성\n",
        "# 런타임 하드웨어가속도 none\n",
        "a=np.array([[1.0, 2.0, 3.0], [2.0,4.0,6.0]])\n",
        "b=np.array([[2.0, 4.0, 6.0],[3.5, 5.5, 7.5]])\n",
        "print(a+b)"
      ],
      "execution_count": 4,
      "outputs": [
        {
          "output_type": "stream",
          "text": [
            "[[ 3.   6.   9. ]\n",
            " [ 5.5  9.5 13.5]]\n"
          ],
          "name": "stdout"
        }
      ]
    },
    {
      "cell_type": "code",
      "metadata": {
        "id": "_juJgE3pIVVs",
        "colab_type": "code",
        "colab": {
          "base_uri": "https://localhost:8080/",
          "height": 52
        },
        "outputId": "7691ae2c-e1a8-4694-b229-351521b789c8"
      },
      "source": [
        "import numpy as np\n",
        "# 텐서 생성\n",
        "# 런타임 하드웨어가속도 gpu\n",
        "a=np.array([[1.0, 2.0, 3.0], [2.0,4.0,6.0]])\n",
        "b=np.array([[2.0, 4.0, 6.0],[3.5, 5.5, 7.5]])\n",
        "print(a+b)"
      ],
      "execution_count": 5,
      "outputs": [
        {
          "output_type": "stream",
          "text": [
            "[[ 3.   6.   9. ]\n",
            " [ 5.5  9.5 13.5]]\n"
          ],
          "name": "stdout"
        }
      ]
    }
  ]
}